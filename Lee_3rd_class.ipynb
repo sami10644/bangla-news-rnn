{
  "nbformat": 4,
  "nbformat_minor": 0,
  "metadata": {
    "colab": {
      "name": "Lee 3rd class.ipynb",
      "provenance": [],
      "authorship_tag": "ABX9TyO0HBEBXVFNAKchGMNmYWc9",
      "include_colab_link": true
    },
    "kernelspec": {
      "name": "python3",
      "display_name": "Python 3"
    },
    "language_info": {
      "name": "python"
    }
  },
  "cells": [
    {
      "cell_type": "markdown",
      "metadata": {
        "id": "view-in-github",
        "colab_type": "text"
      },
      "source": [
        "<a href=\"https://colab.research.google.com/github/sami10644/bangla-news-rnn/blob/master/Lee_3rd_class.ipynb\" target=\"_parent\"><img src=\"https://colab.research.google.com/assets/colab-badge.svg\" alt=\"Open In Colab\"/></a>"
      ]
    },
    {
      "cell_type": "code",
      "metadata": {
        "colab": {
          "base_uri": "https://localhost:8080/"
        },
        "id": "I8tgHlvhZorp",
        "outputId": "c8880363-1d97-40c7-96e1-bafafc2e5967"
      },
      "source": [
        "def number_checking(inputString):\n",
        "   \n",
        "number_checking(\"i m a  boy\")\n"
      ],
      "execution_count": null,
      "outputs": [
        {
          "output_type": "execute_result",
          "data": {
            "text/plain": [
              "False"
            ]
          },
          "metadata": {},
          "execution_count": 4
        }
      ]
    },
    {
      "cell_type": "code",
      "metadata": {
        "colab": {
          "base_uri": "https://localhost:8080/"
        },
        "id": "o1UMdhk-aDNQ",
        "outputId": "220b34cb-063f-4221-bcd0-7bf31ccf034b"
      },
      "source": [
        "import re\n",
        "\n",
        "def checking():\n",
        "    while True:\n",
        "        password = input(\"Enter a password: \")\n",
        "        if len(password) < 8:\n",
        "            print(\"Make sure your password is at lest 8 letters\")\n",
        "        elif re.search('[0-9]',password) is None:\n",
        "            print(\"Make sure your password has a number in it\")\n",
        "        elif re.search('[A-Z]',password) is None: \n",
        "            print(\"Make sure your password has a capital letter in it\")\n",
        "        else:\n",
        "            print(\"Your password seems fine\")\n",
        "            break\n",
        "\n",
        "checking()"
      ],
      "execution_count": null,
      "outputs": [
        {
          "output_type": "stream",
          "name": "stdout",
          "text": [
            "Enter a password: sassssasssssssss\n",
            "Make sure your password has a number in it\n",
            "Enter a password: sami11\n",
            "Make sure your password is at lest 8 letters\n",
            "Enter a password: sami1111111\n",
            "Make sure your password has a capital letter in it\n",
            "Enter a password: Sami1111\n",
            "Your password seems fine\n"
          ]
        }
      ]
    },
    {
      "cell_type": "code",
      "metadata": {
        "id": "A0CiAu6iZ9Cc"
      },
      "source": [
        ""
      ],
      "execution_count": null,
      "outputs": []
    }
  ]
}